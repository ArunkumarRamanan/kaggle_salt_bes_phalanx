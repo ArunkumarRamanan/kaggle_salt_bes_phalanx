{
 "cells": [
  {
   "cell_type": "code",
   "execution_count": null,
   "metadata": {},
   "outputs": [],
   "source": [
    "import os\n",
    "import pandas as pd\n",
    "import numpy as np\n",
    "import cv2\n",
    "from params import args"
   ]
  },
  {
   "cell_type": "code",
   "execution_count": null,
   "metadata": {},
   "outputs": [],
   "source": [
    "def noise_cv(DATA_ROOT):\n",
    "    n_fold = 5\n",
    "    print(os.path.join(DATA_ROOT, 'depths.csv'))\n",
    "    depths = pd.read_csv(os.path.join(DATA_ROOT, 'depths.csv'))\n",
    "    depths.sort_values('z', inplace=True)\n",
    "    depths.drop('z', axis=1, inplace=True)\n",
    "    depths['fold'] = (list(range(n_fold)) * depths.shape[0])[:depths.shape[0]]\n",
    "    depths.to_csv(os.path.join(DATA_ROOT, 'folds.csv'), index=False)"
   ]
  },
  {
   "cell_type": "code",
   "execution_count": null,
   "metadata": {},
   "outputs": [],
   "source": [
    "DATA_ROOT = '../data/'\n",
    "   \n",
    "# Validation and train preprocessing\n",
    "noise_cv(DATA_ROOT)\n",
    "df_train = pd.read_csv(os.path.join(DATA_ROOT,'train.csv'),index_col='id')\n",
    "depths = pd.read_csv(os.path.join(DATA_ROOT,'depths.csv'),index_col='id')\n",
    "folds = pd.read_csv(os.path.join(DATA_ROOT,'folds.csv'),index_col='id')\n",
    "df_train.join(depths).join(folds).sample(frac=1,random_state=123).to_csv(os.path.join(DATA_ROOT,'train_proc.csv'))\n",
    "\n",
    "# Label suspicious images\n",
    "dist = []\n",
    "for id in train.id.values:\n",
    "    img = cv2.imread(os.path.join(args.images_dir,'{}.png'.format(id)), cv2.IMREAD_GRAYSCALE)\n",
    "    dist.append(np.unique(img).shape[0])\n",
    "train['unique_pixels'] = dist\n",
    "train.to_csv(os.path.join(DATA_ROOT,'train_proc_v2.csv'),index=False)"
   ]
  }
 ],
 "metadata": {
  "kernelspec": {
   "display_name": "Python 3",
   "language": "python",
   "name": "python3"
  },
  "language_info": {
   "codemirror_mode": {
    "name": "ipython",
    "version": 3
   },
   "file_extension": ".py",
   "mimetype": "text/x-python",
   "name": "python",
   "nbconvert_exporter": "python",
   "pygments_lexer": "ipython3",
   "version": "3.5.2"
  }
 },
 "nbformat": 4,
 "nbformat_minor": 2
}
