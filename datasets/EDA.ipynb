{
 "cells": [
  {
   "cell_type": "code",
   "execution_count": null,
   "metadata": {},
   "outputs": [],
   "source": [
    "import os\n",
    "import pandas as pd\n",
    "import numpy as np\n",
    "import cv2"
   ]
  },
  {
   "cell_type": "code",
   "execution_count": null,
   "metadata": {},
   "outputs": [],
   "source": [
    "DATA_ROOT = '../data/'\n",
    "\n",
    "df_train = pd.read_csv(os.path.join(DATA_ROOT,'train_proc_v2.csv'),index_col='id')\n",
    "dist = []\n",
    "mask_pixels = []\n",
    "masks = []\n",
    "for id in df_train.index:\n",
    "    img = cv2.imread(os.path.join('../data/train/images/','{}.png'.format(id)), cv2.IMREAD_GRAYSCALE)\n",
    "    mask = cv2.imread(os.path.join('../data/train/masks/','{}.png'.format(id)), cv2.IMREAD_GRAYSCALE)\n",
    "    dist.append(np.unique(img).shape[0])\n",
    "    mask_pixels.append((mask/255).sum())\n",
    "    masks.append(np.array(mask)/255.)\n",
    "df_train['unique_pixels'] = dist\n",
    "df_train['mask_pixels'] = mask_pixels\n",
    "df_train['masks'] = masks\n",
    "df_train[['fold','unique_pixels','coverage_class']].to_csv(os.path.join(DATA_ROOT,'train_proc_v2_gr.csv'))"
   ]
  },
  {
   "cell_type": "code",
   "execution_count": null,
   "metadata": {},
   "outputs": [],
   "source": [
    "DATA_ROOT = '../data/'\n",
    "\n",
    "df_train = pd.read_csv(os.path.join(DATA_ROOT,'train.csv'),index_col='id')\n",
    "depths = pd.read_csv(os.path.join(DATA_ROOT,'depths.csv'),index_col='id')\n",
    "df_train = df_train.join(depths)\n",
    "\n",
    "# Label suspicious images\n",
    "dist = []\n",
    "mask_pixels = []\n",
    "masks = []\n",
    "for id in df_train.index:\n",
    "    img = cv2.imread(os.path.join('../data/train/images/','{}.png'.format(id)), cv2.IMREAD_GRAYSCALE)\n",
    "    mask = cv2.imread(os.path.join('../data/train/masks/','{}.png'.format(id)), cv2.IMREAD_GRAYSCALE)\n",
    "    dist.append(np.unique(img).shape[0])\n",
    "    mask_pixels.append((mask/255).sum())\n",
    "    masks.append(np.array(mask)/255.)\n",
    "df_train['unique_pixels'] = dist\n",
    "df_train['mask_pixels'] = mask_pixels\n",
    "df_train['masks'] = masks"
   ]
  },
  {
   "cell_type": "code",
   "execution_count": null,
   "metadata": {},
   "outputs": [],
   "source": [
    "df_train.head()"
   ]
  },
  {
   "cell_type": "code",
   "execution_count": null,
   "metadata": {},
   "outputs": [],
   "source": [
    "pd.crosstab(df_train.unique_pixels == 1,pd.isnull(df_train.rle_mask))"
   ]
  },
  {
   "cell_type": "code",
   "execution_count": null,
   "metadata": {},
   "outputs": [],
   "source": [
    "pd.crosstab(df_train.mask_pixels == 0,pd.isnull(df_train.rle_mask))"
   ]
  },
  {
   "cell_type": "code",
   "execution_count": null,
   "metadata": {},
   "outputs": [],
   "source": [
    "df_train = df_train[df_train.unique_pixels > 1].sort_values(['mask_pixels','z'])"
   ]
  },
  {
   "cell_type": "code",
   "execution_count": null,
   "metadata": {},
   "outputs": [],
   "source": [
    "n_folds = 10\n",
    "df_train['fold'] = (list(range(n_folds)) * df_train.shape[0])[:df_train.shape[0]]"
   ]
  },
  {
   "cell_type": "code",
   "execution_count": null,
   "metadata": {},
   "outputs": [],
   "source": [
    "df_train['fold'].value_counts()"
   ]
  },
  {
   "cell_type": "code",
   "execution_count": null,
   "metadata": {},
   "outputs": [],
   "source": [
    "df_train.head(20)"
   ]
  },
  {
   "cell_type": "code",
   "execution_count": null,
   "metadata": {},
   "outputs": [],
   "source": [
    "#### Reference  from Heng's discussion\n",
    "# https://www.kaggle.com/c/tgs-salt-identification-challenge/discussion/63984#382657\n",
    "def get_mask_type(mask):\n",
    "    border = 10\n",
    "    outer = np.zeros((101-2*border, 101-2*border), np.float32)\n",
    "    outer = cv2.copyMakeBorder(outer, border, border, border, border, borderType = cv2.BORDER_CONSTANT, value = 1)\n",
    "\n",
    "    cover = (mask>0.5).sum()\n",
    "    if cover == 0:\n",
    "        return 0 # empty\n",
    "    if cover == ((mask*outer) > 0.5).sum():\n",
    "        return 1 #border\n",
    "    if np.all(mask==mask[0]):\n",
    "        return 2 #vertical\n",
    "\n",
    "    percentage = cover/(101*101)\n",
    "    if percentage < 0.15:\n",
    "        return 3\n",
    "    elif percentage < 0.25:\n",
    "        return 4\n",
    "    elif percentage < 0.50:\n",
    "        return 5\n",
    "    elif percentage < 0.75:\n",
    "        return 6\n",
    "    else:\n",
    "        return 7\n",
    "\n",
    "def histcoverage(coverage):\n",
    "    histall = np.zeros((1,8))\n",
    "    for c in coverage:\n",
    "        histall[0,c] += 1\n",
    "    return histall\n",
    "\n",
    "df_train[\"coverage\"] = df_train.masks.map(np.sum) / pow(101, 2)\n",
    "\n",
    "df_train[\"coverage_class\"] = df_train.masks.map(get_mask_type)"
   ]
  },
  {
   "cell_type": "code",
   "execution_count": null,
   "metadata": {},
   "outputs": [],
   "source": [
    "df_train.head()"
   ]
  },
  {
   "cell_type": "code",
   "execution_count": null,
   "metadata": {},
   "outputs": [],
   "source": [
    "df_train.coverage_class.value_counts()"
   ]
  },
  {
   "cell_type": "code",
   "execution_count": null,
   "metadata": {},
   "outputs": [],
   "source": []
  },
  {
   "cell_type": "code",
   "execution_count": null,
   "metadata": {},
   "outputs": [],
   "source": [
    "df_train[['fold','coverage_class']].to_csv(os.path.join(DATA_ROOT,'train_proc_v4.csv'))"
   ]
  },
  {
   "cell_type": "code",
   "execution_count": null,
   "metadata": {},
   "outputs": [],
   "source": []
  }
 ],
 "metadata": {
  "kernelspec": {
   "display_name": "Python 3",
   "language": "python",
   "name": "python3"
  },
  "language_info": {
   "codemirror_mode": {
    "name": "ipython",
    "version": 3
   },
   "file_extension": ".py",
   "mimetype": "text/x-python",
   "name": "python",
   "nbconvert_exporter": "python",
   "pygments_lexer": "ipython3",
   "version": "3.5.2"
  }
 },
 "nbformat": 4,
 "nbformat_minor": 2
}
